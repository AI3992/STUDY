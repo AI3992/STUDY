{
 "cells": [
  {
   "cell_type": "code",
   "execution_count": 1,
   "metadata": {},
   "outputs": [],
   "source": [
    "# 순방향 신경막 (feedforword) 설명 글 https://m.blog.naver.com/PostView.naver?isHttpsRedirect=true&blogId=beyondlegend&logNo=221373971859\n",
    "# study_pytorch 설명 글 https://tuttozurich.tistory.com/40\n",
    "# sigmoid, 역전파 설명 글 https://wikidocs.net/37406\n",
    "# 배치 정규화(Batch Normalization) 설명 글 https://light-tree.tistory.com/139\n",
    "# 컨볼루션 신경막 레이어(Convolution layer) 설명 글 https://tykimos.github.io/2017/01/27/CNN_Layer_Talk/\n",
    "# 정확도(Accuracy) 설명 글 https://subinium.github.io/basic-of-Evaluation/"
   ]
  },
  {
   "cell_type": "code",
   "execution_count": null,
   "metadata": {},
   "outputs": [],
   "source": []
  }
 ],
 "metadata": {
  "kernelspec": {
   "display_name": "Python 3.9.13 64-bit",
   "language": "python",
   "name": "python3"
  },
  "language_info": {
   "codemirror_mode": {
    "name": "ipython",
    "version": 3
   },
   "file_extension": ".py",
   "mimetype": "text/x-python",
   "name": "python",
   "nbconvert_exporter": "python",
   "pygments_lexer": "ipython3",
   "version": "3.9.13"
  },
  "orig_nbformat": 4,
  "vscode": {
   "interpreter": {
    "hash": "e309aa03de6348255f34ec61e6c540557e94286e07de902f5f868f03120cbf82"
   }
  }
 },
 "nbformat": 4,
 "nbformat_minor": 2
}
