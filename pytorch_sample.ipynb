{
 "cells": [
  {
   "cell_type": "code",
   "execution_count": 13,
   "metadata": {},
   "outputs": [],
   "source": [
    "import torch\n",
    "from torch import nn\n",
    "from torchvision import datasets\n",
    "from torch.utils.data import DataLoader\n",
    "from torchvision.transforms import ToTensor\n",
    "import numpy as np\n",
    "import matplotlib.pyplot as plt"
   ]
  },
  {
   "cell_type": "code",
   "execution_count": null,
   "metadata": {},
   "outputs": [],
   "source": [
    "train_data = datasets.FashionMNIST(\n",
    "    root = \"tutorial\",\n",
    "    train = True,\n",
    "    download = True,\n",
    "    transform = ToTensor()\n",
    ")\n",
    "train_data\n",
    "train_data.data.shape\n",
    "np.unique(train_data.targets, return_counts = True)"
   ]
  },
  {
   "cell_type": "code",
   "execution_count": null,
   "metadata": {},
   "outputs": [],
   "source": [
    "test_data = datasets.FashionMNIST(\n",
    "    root = \"tutorial\",\n",
    "    train = False,\n",
    "    download = True,\n",
    "    transform = ToTensor()\n",
    ")\n",
    "test_data\n",
    "test_data.data.shape\n",
    "np.unique(test_data.targets, return_counts = True)"
   ]
  },
  {
   "cell_type": "code",
   "execution_count": null,
   "metadata": {},
   "outputs": [],
   "source": [
    "train_dataloader = DataLoader(dataset = train_data, batch_size = 64)\n",
    "test_dataloader = DataLoader(dataset = test_data, batch_size = 64)\n",
    "\n",
    "train_dataloader.dataset\n",
    "len(train_dataloader.dataset)\n",
    "\n",
    "len(train_dataloader)\n",
    "\n",
    "938 * 64\n",
    "\n",
    "for batch, (x, y) in enumerate(train_dataloader):\n",
    "    print(batch + 1)\n",
    "    print(f\"shape of x: {x.shape}\")\n",
    "    print(f\"shape of y: {y.shape} & dtype of y: {y.dtype}\")"
   ]
  },
  {
   "cell_type": "code",
   "execution_count": null,
   "metadata": {},
   "outputs": [],
   "source": [
    "class NET(nn.Module):\n",
    "    def __init__(self):\n",
    "        super().__init__()\n",
    "        self.flatten = nn.Flatten()\n",
    "        self.linear_relu_stack = nn.Sequential(\n",
    "            nn.Linear(in_features = 28*28,\n",
    "            out_features = 512),\n",
    "            nn.ReLU(),\n",
    "            nn.Linear(in_features = 512,\n",
    "            out_features = 512),\n",
    "            nn.ReLU(),\n",
    "            nn.Linear(in_features = 512,\n",
    "            out_features = 10)\n",
    "        )\n",
    "    def forward(self, x):\n",
    "        x = self.flatten(x)\n",
    "        network = self.linear_relu_stack(x)\n",
    "        return network\n",
    "\n",
    "simpleNN = NET()\n",
    "simpleNN"
   ]
  },
  {
   "cell_type": "code",
   "execution_count": 27,
   "metadata": {},
   "outputs": [],
   "source": [
    "loss_func = nn.CrossEntropyLoss()\n",
    "opt = torch.optim.SGD(\n",
    "    params = simpleNN.parameters(),\n",
    "    lr = 1e-3\n",
    ")"
   ]
  },
  {
   "cell_type": "code",
   "execution_count": 28,
   "metadata": {},
   "outputs": [],
   "source": [
    "def training(dataloader, model, loss_func, optimizer):\n",
    "\n",
    "    size = len(dataloader.dataset)\n",
    "\n",
    "    model.train()\n",
    "\n",
    "    for batch, (x, y) in enumerate(dataloader):\n",
    "\n",
    "        pred = model(x)\n",
    "        loss = loss_func(pred, y)\n",
    "\n",
    "        optimizer.zero_grad()\n",
    "        loss.backward()\n",
    "        optimizer.step()\n",
    "\n",
    "        if batch % 100 == 0:\n",
    "            loss = loss.item()\n",
    "            current = batch * len(x)\n",
    "            print(f\"loss: {loss:>5f} at {current:>5d}/{size:>5d}\")"
   ]
  },
  {
   "cell_type": "code",
   "execution_count": 34,
   "metadata": {},
   "outputs": [],
   "source": [
    "def testing(dataloader, model, loss_func):\n",
    "\n",
    "    size = len(dataloader.dataset)\n",
    "    num_batch = len(dataloader)\n",
    "\n",
    "    model.eval()\n",
    "\n",
    "    test_loss, correct = 0, 0\n",
    "\n",
    "    with torch.no_grad():\n",
    "        for x, y in dataloader:\n",
    "            pred = model(x)\n",
    "\n",
    "            test_loss += loss_func(pred, y).item()\n",
    "            correct += (pred.argmax (1) == y).type(torch.float).sum().item()\n",
    "\n",
    "    test_loss /= num_batch\n",
    "    correct /= size\n",
    "\n",
    "    print(f\"\\n test evalution: \\n Accuracy: {(100*correct):>5f}%, \\\n",
    "        Avg loss: {test_loss:>5f}\\n\")\n"
   ]
  },
  {
   "cell_type": "code",
   "execution_count": null,
   "metadata": {},
   "outputs": [],
   "source": [
    "epochs = 5\n",
    "\n",
    "for t in range(epochs):\n",
    "    print(f\"\\n\\n   Epoch {t+1} --------------------- \\n\")\n",
    "\n",
    "    training(train_dataloader, simpleNN, loss_func, opt)\n",
    "    testing(test_dataloader, simpleNN, loss_func)"
   ]
  },
  {
   "cell_type": "code",
   "execution_count": null,
   "metadata": {},
   "outputs": [],
   "source": [
    "from operator import truth\n",
    "\n",
    "labels = [\n",
    "    \"T-shirt/top\",\n",
    "    \"Trouser\",\n",
    "    \"Pullover\",\n",
    "    \"Dres\",\n",
    "    \"Coat\",\n",
    "    \"Sandal\",\n",
    "    \"Shirt\",\n",
    "    \"Sneaker\",\n",
    "    \"Bag\",\n",
    "    \"Ankle boot\",\n",
    "]\n",
    "\n",
    "plt.imshow(test_data.data[2], cmap = \"Greys\")\n",
    "\n",
    "x = test_data[0][0]\n",
    "\n",
    "y = test_data[0][1]\n",
    "\n",
    "with torch.no_grad():\n",
    "    pred = simpleNN(x)\n",
    "    prediction = labels[pred[0].argmax(0)]\n",
    "    truth = labels[y]\n",
    "\n",
    "    print(f\"simpleNN predcit as {prediction} : truth is {truth}\")"
   ]
  }
 ],
 "metadata": {
  "kernelspec": {
   "display_name": "Python 3.9.13 64-bit",
   "language": "python",
   "name": "python3"
  },
  "language_info": {
   "codemirror_mode": {
    "name": "ipython",
    "version": 3
   },
   "file_extension": ".py",
   "mimetype": "text/x-python",
   "name": "python",
   "nbconvert_exporter": "python",
   "pygments_lexer": "ipython3",
   "version": "3.9.13"
  },
  "orig_nbformat": 4,
  "vscode": {
   "interpreter": {
    "hash": "e309aa03de6348255f34ec61e6c540557e94286e07de902f5f868f03120cbf82"
   }
  }
 },
 "nbformat": 4,
 "nbformat_minor": 2
}
