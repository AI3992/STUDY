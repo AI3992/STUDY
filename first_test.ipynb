{
 "cells": [
  {
   "cell_type": "code",
   "execution_count": 1,
   "metadata": {},
   "outputs": [],
   "source": [
    "import numpy as np\n",
    "import pandas as pd\n",
    "from tensorflow import keras\n",
    "\n",
    "import os\n",
    "for dirname, _, filenames in os.walk('/kaggle/input'):\n",
    "    for filename in filenames:\n",
    "        print(os.path.join(dirname, filename))"
   ]
  },
  {
   "cell_type": "code",
   "execution_count": 5,
   "metadata": {},
   "outputs": [],
   "source": [
    "fashion_mnist = keras.datasets.fashion_mnist\n",
    "(train_images, train_label), (test_images, test_label) = fashion_mnist.load_data()"
   ]
  },
  {
   "cell_type": "code",
   "execution_count": 6,
   "metadata": {},
   "outputs": [
    {
     "name": "stdout",
     "output_type": "stream",
     "text": [
      "60000 60000\n",
      "10000 10000\n"
     ]
    }
   ],
   "source": [
    "print(len(train_images),len(train_label))\n",
    "print(len(test_images),len(test_label))"
   ]
  },
  {
   "cell_type": "code",
   "execution_count": 7,
   "metadata": {},
   "outputs": [
    {
     "data": {
      "text/plain": [
       "(60000, 28, 28)"
      ]
     },
     "execution_count": 7,
     "metadata": {},
     "output_type": "execute_result"
    }
   ],
   "source": [
    "train_images.shape"
   ]
  },
  {
   "cell_type": "code",
   "execution_count": 8,
   "metadata": {},
   "outputs": [],
   "source": [
    "from keras.utils import np_utils"
   ]
  },
  {
   "cell_type": "code",
   "execution_count": 10,
   "metadata": {},
   "outputs": [
    {
     "name": "stdout",
     "output_type": "stream",
     "text": [
      "(30000, 28, 28, 1) (30000, 5)\n",
      "(5000, 28, 28, 1) (5000, 5)\n",
      "(30000, 28, 28, 1) (30000, 10)\n",
      "(5000, 28, 28, 1) (5000, 10)\n"
     ]
    }
   ],
   "source": [
    "pt_x_train = []\n",
    "pt_y_train = []\n",
    "pt_x_test = []\n",
    "pt_y_test = []\n",
    "\n",
    "tl_x_train = []\n",
    "tl_y_train = []\n",
    "tl_x_test = []\n",
    "tl_y_test = []\n",
    "\n",
    "m=60000\n",
    "\n",
    "for i in range(m):\n",
    "    if train_label[i] < 5:\n",
    "        pt_x_train.append(train_images[i] / 255)\n",
    "        pt_y_train.append(train_label[i])\n",
    "    else:\n",
    "        tl_x_train.append(train_images[i] / 255)\n",
    "        tl_y_train.append(train_label[i])\n",
    "\n",
    "m2 = 10000\n",
    "\n",
    "for i in range(m2):\n",
    "    if test_label[i] < 5:\n",
    "        pt_x_test.append(test_images[i] / 255)\n",
    "        pt_y_test.append(test_label[i])\n",
    "    else:\n",
    "        tl_x_test.append(test_images[i] / 255)\n",
    "        tl_y_test.append(test_label[i])\n",
    "                         \n",
    "pt_x_train = np.asarray(pt_x_train).reshape(-1,28,28,1)\n",
    "pt_x_test = np.asarray(pt_x_test).reshape(-1,28,28,1)\n",
    "pt_y_train = np_utils.to_categorical(np.asarray(pt_y_train))\n",
    "pt_y_test = np_utils.to_categorical(np.asarray(pt_y_test))\n",
    "\n",
    "tl_x_train = np.asarray(tl_x_train).reshape(-1,28,28,1)\n",
    "tl_x_test = np.asarray(tl_x_test).reshape(-1,28,28,1)\n",
    "tl_y_train = np_utils.to_categorical(np.asarray(tl_y_train))\n",
    "tl_y_test = np_utils.to_categorical(np.asarray(tl_y_test))\n",
    "\n",
    "                         \n",
    "print(pt_x_train.shape,pt_y_train.shape)\n",
    "print(pt_x_test.shape,pt_y_test.shape)\n",
    "\n",
    "print(tl_x_train.shape,tl_y_train.shape)\n",
    "print(tl_x_test.shape,tl_y_test.shape)    "
   ]
  },
  {
   "cell_type": "code",
   "execution_count": 11,
   "metadata": {},
   "outputs": [],
   "source": [
    "from keras.models import Sequential,Model\n",
    "from keras.layers import Conv2D,Dense,Activation,MaxPool2D,Dropout,Flatten"
   ]
  },
  {
   "cell_type": "code",
   "execution_count": 12,
   "metadata": {},
   "outputs": [
    {
     "name": "stdout",
     "output_type": "stream",
     "text": [
      "Model: \"sequential\"\n",
      "_________________________________________________________________\n",
      " Layer (type)                Output Shape              Param #   \n",
      "=================================================================\n",
      " conv2d (Conv2D)             (None, 24, 24, 32)        832       \n",
      "                                                                 \n",
      " conv2d_1 (Conv2D)           (None, 20, 20, 16)        12816     \n",
      "                                                                 \n",
      " max_pooling2d (MaxPooling2D  (None, 10, 10, 16)       0         \n",
      " )                                                               \n",
      "                                                                 \n",
      " conv2d_2 (Conv2D)           (None, 8, 8, 8)           1160      \n",
      "                                                                 \n",
      " flatten (Flatten)           (None, 512)               0         \n",
      "                                                                 \n",
      " dropout (Dropout)           (None, 512)               0         \n",
      "                                                                 \n",
      " dense (Dense)               (None, 128)               65664     \n",
      "                                                                 \n",
      " dense_1 (Dense)             (None, 64)                8256      \n",
      "                                                                 \n",
      " dense_2 (Dense)             (None, 5)                 325       \n",
      "                                                                 \n",
      "=================================================================\n",
      "Total params: 89,053\n",
      "Trainable params: 89,053\n",
      "Non-trainable params: 0\n",
      "_________________________________________________________________\n"
     ]
    }
   ],
   "source": [
    "model = Sequential()\n",
    "\n",
    "# (28,28,1)\n",
    "\n",
    "model.add(Conv2D(32,(5,5),input_shape=(28,28,1),activation='relu'))\n",
    "# (24,24,32)\n",
    "\n",
    "model.add(Conv2D(16,(5,5),activation='relu'))\n",
    "# (20,20,16)\n",
    "\n",
    "model.add(MaxPool2D(pool_size=(2,2)))\n",
    "# (10,10,16)\n",
    "\n",
    "model.add(Conv2D(8,(3,3),activation='relu'))\n",
    "# (8,8,8)\n",
    "\n",
    "model.add(Flatten())\n",
    "\n",
    "model.add(Dropout(0.4))\n",
    "\n",
    "model.add(Dense(128,activation='relu'))\n",
    "\n",
    "model.add(Dense(64,activation='relu'))\n",
    "\n",
    "model.add(Dense(5,activation='softmax'))\n",
    "\n",
    "model.summary()"
   ]
  },
  {
   "cell_type": "code",
   "execution_count": 13,
   "metadata": {},
   "outputs": [],
   "source": [
    "model.compile(optimizer='adam',\n",
    "             loss='categorical_crossentropy',\n",
    "             metrics=['accuracy'])"
   ]
  },
  {
   "cell_type": "code",
   "execution_count": 14,
   "metadata": {},
   "outputs": [
    {
     "name": "stdout",
     "output_type": "stream",
     "text": [
      "Epoch 1/10\n",
      "300/300 - 15s - loss: 0.5361 - accuracy: 0.7893 - val_loss: 0.3535 - val_accuracy: 0.8714 - 15s/epoch - 51ms/step\n",
      "Epoch 2/10\n",
      "300/300 - 16s - loss: 0.3377 - accuracy: 0.8748 - val_loss: 0.2849 - val_accuracy: 0.9020 - 16s/epoch - 53ms/step\n",
      "Epoch 3/10\n",
      "300/300 - 15s - loss: 0.2830 - accuracy: 0.8960 - val_loss: 0.2534 - val_accuracy: 0.9092 - 15s/epoch - 49ms/step\n",
      "Epoch 4/10\n",
      "300/300 - 13s - loss: 0.2574 - accuracy: 0.9062 - val_loss: 0.2326 - val_accuracy: 0.9182 - 13s/epoch - 44ms/step\n",
      "Epoch 5/10\n",
      "300/300 - 13s - loss: 0.2388 - accuracy: 0.9130 - val_loss: 0.2289 - val_accuracy: 0.9166 - 13s/epoch - 44ms/step\n",
      "Epoch 6/10\n",
      "300/300 - 13s - loss: 0.2244 - accuracy: 0.9179 - val_loss: 0.2126 - val_accuracy: 0.9222 - 13s/epoch - 44ms/step\n",
      "Epoch 7/10\n",
      "300/300 - 13s - loss: 0.2134 - accuracy: 0.9220 - val_loss: 0.2050 - val_accuracy: 0.9266 - 13s/epoch - 44ms/step\n",
      "Epoch 8/10\n",
      "300/300 - 13s - loss: 0.2050 - accuracy: 0.9257 - val_loss: 0.2114 - val_accuracy: 0.9234 - 13s/epoch - 44ms/step\n",
      "Epoch 9/10\n",
      "300/300 - 13s - loss: 0.1965 - accuracy: 0.9268 - val_loss: 0.2074 - val_accuracy: 0.9212 - 13s/epoch - 44ms/step\n",
      "Epoch 10/10\n",
      "300/300 - 13s - loss: 0.1861 - accuracy: 0.9319 - val_loss: 0.1934 - val_accuracy: 0.9320 - 13s/epoch - 44ms/step\n"
     ]
    },
    {
     "data": {
      "text/plain": [
       "<keras.callbacks.History at 0x1dd69276c40>"
      ]
     },
     "execution_count": 14,
     "metadata": {},
     "output_type": "execute_result"
    }
   ],
   "source": [
    "model.fit(pt_x_train,pt_y_train,\n",
    "         validation_data=(pt_x_test,pt_y_test),\n",
    "         epochs=10,\n",
    "         batch_size=100,\n",
    "         verbose=2,\n",
    "         shuffle=True)"
   ]
  },
  {
   "cell_type": "code",
   "execution_count": 15,
   "metadata": {},
   "outputs": [],
   "source": [
    "for layer in model.layers[:5]:\n",
    "    layer.trainable = False"
   ]
  },
  {
   "cell_type": "code",
   "execution_count": 16,
   "metadata": {},
   "outputs": [],
   "source": [
    "x = model.layers[4].output\n",
    "x = Dropout(0.5)(x)\n",
    "x = Dense(32,activation='relu')(x)\n",
    "x = Dense(16,activation='relu')(x)\n",
    "predictions = Dense(10,activation='softmax')(x)"
   ]
  },
  {
   "cell_type": "code",
   "execution_count": 17,
   "metadata": {},
   "outputs": [],
   "source": [
    "tl_model = Model(model.input,predictions)"
   ]
  },
  {
   "cell_type": "code",
   "execution_count": null,
   "metadata": {},
   "outputs": [],
   "source": [
    "tl_model.summary()"
   ]
  },
  {
   "cell_type": "code",
   "execution_count": 19,
   "metadata": {},
   "outputs": [],
   "source": [
    "tl_model.compile(optimizer='adam',\n",
    "          loss='categorical_crossentropy',\n",
    "          metrics=['accuracy'])"
   ]
  },
  {
   "cell_type": "code",
   "execution_count": 21,
   "metadata": {},
   "outputs": [
    {
     "name": "stdout",
     "output_type": "stream",
     "text": [
      "Epoch 1/10\n",
      "300/300 - 3s - loss: 0.1540 - accuracy: 0.9453 - val_loss: 0.1276 - val_accuracy: 0.9576 - 3s/epoch - 8ms/step\n",
      "Epoch 2/10\n",
      "300/300 - 3s - loss: 0.1535 - accuracy: 0.9455 - val_loss: 0.1211 - val_accuracy: 0.9588 - 3s/epoch - 9ms/step\n",
      "Epoch 3/10\n",
      "300/300 - 3s - loss: 0.1486 - accuracy: 0.9478 - val_loss: 0.1203 - val_accuracy: 0.9582 - 3s/epoch - 9ms/step\n",
      "Epoch 4/10\n",
      "300/300 - 3s - loss: 0.1473 - accuracy: 0.9469 - val_loss: 0.1186 - val_accuracy: 0.9594 - 3s/epoch - 9ms/step\n",
      "Epoch 5/10\n",
      "300/300 - 3s - loss: 0.1463 - accuracy: 0.9476 - val_loss: 0.1205 - val_accuracy: 0.9588 - 3s/epoch - 9ms/step\n",
      "Epoch 6/10\n",
      "300/300 - 2s - loss: 0.1453 - accuracy: 0.9473 - val_loss: 0.1184 - val_accuracy: 0.9608 - 2s/epoch - 8ms/step\n",
      "Epoch 7/10\n",
      "300/300 - 3s - loss: 0.1412 - accuracy: 0.9490 - val_loss: 0.1167 - val_accuracy: 0.9610 - 3s/epoch - 9ms/step\n",
      "Epoch 8/10\n",
      "300/300 - 3s - loss: 0.1395 - accuracy: 0.9488 - val_loss: 0.1202 - val_accuracy: 0.9572 - 3s/epoch - 8ms/step\n",
      "Epoch 9/10\n",
      "300/300 - 3s - loss: 0.1408 - accuracy: 0.9486 - val_loss: 0.1203 - val_accuracy: 0.9578 - 3s/epoch - 9ms/step\n",
      "Epoch 10/10\n",
      "300/300 - 3s - loss: 0.1351 - accuracy: 0.9513 - val_loss: 0.1124 - val_accuracy: 0.9624 - 3s/epoch - 8ms/step\n"
     ]
    },
    {
     "data": {
      "text/plain": [
       "<keras.callbacks.History at 0x1dd2ca46ca0>"
      ]
     },
     "execution_count": 21,
     "metadata": {},
     "output_type": "execute_result"
    }
   ],
   "source": [
    "tl_model.fit(tl_x_train,tl_y_train,\n",
    "            validation_data=(tl_x_test,tl_y_test),\n",
    "            batch_size=100,\n",
    "            epochs=10,\n",
    "            verbose=2,\n",
    "            shuffle=True)"
   ]
  },
  {
   "cell_type": "code",
   "execution_count": null,
   "metadata": {},
   "outputs": [],
   "source": []
  }
 ],
 "metadata": {
  "kernelspec": {
   "display_name": "Python 3.9.13 64-bit",
   "language": "python",
   "name": "python3"
  },
  "language_info": {
   "codemirror_mode": {
    "name": "ipython",
    "version": 3
   },
   "file_extension": ".py",
   "mimetype": "text/x-python",
   "name": "python",
   "nbconvert_exporter": "python",
   "pygments_lexer": "ipython3",
   "version": "3.9.13"
  },
  "orig_nbformat": 4,
  "vscode": {
   "interpreter": {
    "hash": "e309aa03de6348255f34ec61e6c540557e94286e07de902f5f868f03120cbf82"
   }
  }
 },
 "nbformat": 4,
 "nbformat_minor": 2
}
